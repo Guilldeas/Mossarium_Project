{
 "cells": [
  {
   "cell_type": "code",
   "execution_count": 20,
   "metadata": {},
   "outputs": [
    {
     "name": "stdout",
     "output_type": "stream",
     "text": [
      "DHT22 Startup\n",
      "\n",
      "\n",
      "Failed to read from DHT sensor. Failed attempts: 0\n",
      "\n",
      "Failed to read from DHT sensor. Failed attempts: 1\n",
      "\n",
      "Failed to read from DHT sensor. Failed attempts: 2\n",
      "\n",
      "Failed to read from DHT sensor. Failed attempts: 3\n",
      "\n",
      "Failed to read from DHT sensor. Failed attempts: 4\n",
      "\n",
      "Failed to read from DHT sensor. Failed attempts: 5\n",
      "\n",
      "Failed to read from DHT sensor. Failed attempts: 6\n",
      "\n"
     ]
    }
   ],
   "source": [
    "import serial\n",
    "import time\n",
    "\n",
    "COM = 'COM3'\n",
    "\n",
    "# The 'try' block executes safely code that might cause an exception\n",
    "try:\n",
    "    # Open COM3 and wait up to 2 seconds for communication\n",
    "    ser = serial.Serial(COM, baudrate=9600, timeout=2)\n",
    "\n",
    "# The 'except' block executes when there's an error\n",
    "except Exception as e:\n",
    "    print(f\"An error ocurred when attempting to connect to \"+COM+\": {e}\")\n",
    "\n",
    "i=0\n",
    "for i in range(1, 10):\n",
    "\n",
    "    try:\n",
    "        # Read string in ascii\n",
    "        arduinoData = ser.readline().decode('ascii')\n",
    "        print(arduinoData)\n",
    "    except Exception as e:\n",
    "        print(f\"An error ocurred when reading: {e}\")\n",
    "    \n",
    "    i = i+1\n",
    "\n",
    "# Close serial comms\n",
    "if ser.is_open:\n",
    "    ser.close()\n",
    "    time.sleep(1)  # Give the OS some time to release the port\n"
   ]
  },
  {
   "cell_type": "code",
   "execution_count": null,
   "metadata": {},
   "outputs": [],
   "source": []
  }
 ],
 "metadata": {
  "kernelspec": {
   "display_name": "Python 3",
   "language": "python",
   "name": "python3"
  },
  "language_info": {
   "codemirror_mode": {
    "name": "ipython",
    "version": 3
   },
   "file_extension": ".py",
   "mimetype": "text/x-python",
   "name": "python",
   "nbconvert_exporter": "python",
   "pygments_lexer": "ipython3",
   "version": "3.11.6"
  }
 },
 "nbformat": 4,
 "nbformat_minor": 2
}
