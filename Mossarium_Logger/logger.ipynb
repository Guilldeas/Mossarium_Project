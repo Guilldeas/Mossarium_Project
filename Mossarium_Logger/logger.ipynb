{
 "cells": [
  {
   "cell_type": "code",
   "execution_count": 7,
   "metadata": {},
   "outputs": [
    {
     "name": "stdout",
     "output_type": "stream",
     "text": [
      "DHT22 Startup\n",
      "\n",
      "\n",
      "\n",
      "\n",
      "\n",
      "\n",
      "\n",
      "\n",
      "\n",
      "\n",
      "\n",
      "Readings failed, could not compute average\n",
      "\n",
      "\n",
      "\n",
      "\n",
      "\n",
      "\n",
      "\n",
      "\n",
      "\n",
      "\n",
      "\n",
      "Readings failed, could not compute average\n",
      "\n",
      "\n",
      "\n",
      "\n",
      "\n",
      "\n"
     ]
    },
    {
     "ename": "KeyboardInterrupt",
     "evalue": "",
     "output_type": "error",
     "traceback": [
      "\u001b[1;31m---------------------------------------------------------------------------\u001b[0m",
      "\u001b[1;31mKeyboardInterrupt\u001b[0m                         Traceback (most recent call last)",
      "\u001b[1;32mc:\\Users\\guill\\OneDrive\\Escritorio\\Programming\\Mossarium_Project\\Mossarium_Logger\\logger.ipynb Cell 1\u001b[0m line \u001b[0;36m2\n\u001b[0;32m     <a href='vscode-notebook-cell:/c%3A/Users/guill/OneDrive/Escritorio/Programming/Mossarium_Project/Mossarium_Logger/logger.ipynb#W0sZmlsZQ%3D%3D?line=25'>26</a>\u001b[0m         wait \u001b[39m=\u001b[39m wait \u001b[39m+\u001b[39m \u001b[39m1\u001b[39m\n\u001b[0;32m     <a href='vscode-notebook-cell:/c%3A/Users/guill/OneDrive/Escritorio/Programming/Mossarium_Project/Mossarium_Logger/logger.ipynb#W0sZmlsZQ%3D%3D?line=26'>27</a>\u001b[0m     wait \u001b[39m=\u001b[39m \u001b[39m0\u001b[39m\n\u001b[1;32m---> <a href='vscode-notebook-cell:/c%3A/Users/guill/OneDrive/Escritorio/Programming/Mossarium_Project/Mossarium_Logger/logger.ipynb#W0sZmlsZQ%3D%3D?line=28'>29</a>\u001b[0m     arduinoData \u001b[39m=\u001b[39m ser\u001b[39m.\u001b[39;49mreadline()\u001b[39m.\u001b[39mdecode(\u001b[39m'\u001b[39m\u001b[39mascii\u001b[39m\u001b[39m'\u001b[39m)\n\u001b[0;32m     <a href='vscode-notebook-cell:/c%3A/Users/guill/OneDrive/Escritorio/Programming/Mossarium_Project/Mossarium_Logger/logger.ipynb#W0sZmlsZQ%3D%3D?line=29'>30</a>\u001b[0m     \u001b[39mprint\u001b[39m(arduinoData)\n\u001b[0;32m     <a href='vscode-notebook-cell:/c%3A/Users/guill/OneDrive/Escritorio/Programming/Mossarium_Project/Mossarium_Logger/logger.ipynb#W0sZmlsZQ%3D%3D?line=31'>32</a>\u001b[0m \u001b[39mexcept\u001b[39;00m \u001b[39mException\u001b[39;00m \u001b[39mas\u001b[39;00m e:\n",
      "File \u001b[1;32mc:\\Users\\guill\\AppData\\Local\\Programs\\Python\\Python311\\Lib\\site-packages\\serial\\serialwin32.py:288\u001b[0m, in \u001b[0;36mSerial.read\u001b[1;34m(self, size)\u001b[0m\n\u001b[0;32m    286\u001b[0m \u001b[39mif\u001b[39;00m \u001b[39mnot\u001b[39;00m read_ok \u001b[39mand\u001b[39;00m win32\u001b[39m.\u001b[39mGetLastError() \u001b[39mnot\u001b[39;00m \u001b[39min\u001b[39;00m (win32\u001b[39m.\u001b[39mERROR_SUCCESS, win32\u001b[39m.\u001b[39mERROR_IO_PENDING):\n\u001b[0;32m    287\u001b[0m     \u001b[39mraise\u001b[39;00m SerialException(\u001b[39m\"\u001b[39m\u001b[39mReadFile failed (\u001b[39m\u001b[39m{!r}\u001b[39;00m\u001b[39m)\u001b[39m\u001b[39m\"\u001b[39m\u001b[39m.\u001b[39mformat(ctypes\u001b[39m.\u001b[39mWinError()))\n\u001b[1;32m--> 288\u001b[0m result_ok \u001b[39m=\u001b[39m win32\u001b[39m.\u001b[39;49mGetOverlappedResult(\n\u001b[0;32m    289\u001b[0m     \u001b[39mself\u001b[39;49m\u001b[39m.\u001b[39;49m_port_handle,\n\u001b[0;32m    290\u001b[0m     ctypes\u001b[39m.\u001b[39;49mbyref(\u001b[39mself\u001b[39;49m\u001b[39m.\u001b[39;49m_overlapped_read),\n\u001b[0;32m    291\u001b[0m     ctypes\u001b[39m.\u001b[39;49mbyref(rc),\n\u001b[0;32m    292\u001b[0m     \u001b[39mTrue\u001b[39;49;00m)\n\u001b[0;32m    293\u001b[0m \u001b[39mif\u001b[39;00m \u001b[39mnot\u001b[39;00m result_ok:\n\u001b[0;32m    294\u001b[0m     \u001b[39mif\u001b[39;00m win32\u001b[39m.\u001b[39mGetLastError() \u001b[39m!=\u001b[39m win32\u001b[39m.\u001b[39mERROR_OPERATION_ABORTED:\n",
      "\u001b[1;31mKeyboardInterrupt\u001b[0m: "
     ]
    }
   ],
   "source": [
    "import serial\n",
    "import time\n",
    "\n",
    "COM = 'COM3'\n",
    "\n",
    "# Open COM3 and wait up to 2 seconds for communication\n",
    "\n",
    "try:\n",
    "    ser = serial.Serial(COM, baudrate=9600, timeout=2)\n",
    "\n",
    "except Exception as e:\n",
    "    print(f\"An error ocurred when attempting to connect to \"+COM+\": {e}\")\n",
    "\n",
    "for i in range(1, 30):\n",
    "\n",
    "    try:\n",
    "        # Request data from arduino\n",
    "        ser.write(b's')\n",
    "\n",
    "        wait = 0\n",
    "        # Wait until response or timeout\n",
    "        while((ser.in_waiting > 0) or (wait > 10)):\n",
    "            time.sleep(1)\n",
    "            wait = wait + 1\n",
    "        wait = 0\n",
    "\n",
    "        # Read response\n",
    "        arduinoData = ser.readline().decode('ascii')\n",
    "        print(arduinoData)\n",
    "\n",
    "    except Exception as e:\n",
    "        print(f\"An error ocurred when reading: {e}\")\n",
    "    \n",
    "    i = i+1\n",
    "\n",
    "# Close serial comms\n",
    "if ser.is_open:\n",
    "    ser.close()\n",
    "    time.sleep(1)  # Give the OS some time to release the port\n"
   ]
  },
  {
   "cell_type": "code",
   "execution_count": null,
   "metadata": {},
   "outputs": [],
   "source": []
  }
 ],
 "metadata": {
  "kernelspec": {
   "display_name": "Python 3",
   "language": "python",
   "name": "python3"
  },
  "language_info": {
   "codemirror_mode": {
    "name": "ipython",
    "version": 3
   },
   "file_extension": ".py",
   "mimetype": "text/x-python",
   "name": "python",
   "nbconvert_exporter": "python",
   "pygments_lexer": "ipython3",
   "version": "3.11.6"
  }
 },
 "nbformat": 4,
 "nbformat_minor": 2
}
